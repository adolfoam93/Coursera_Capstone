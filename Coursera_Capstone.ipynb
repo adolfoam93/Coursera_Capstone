{
 "cells": [
  {
   "cell_type": "markdown",
   "metadata": {},
   "source": [
    "# Capstone Project\n",
    "\n",
    "#### The objective of this notebook is to complete the IBM Data Science Capstone Project."
   ]
  },
  {
   "cell_type": "markdown",
   "metadata": {},
   "source": [
    "# The problem.\n",
    "\n",
    "Nowadays the world is facing the COVID-19 pandemic, a disease that is spread all around the globe.\n",
    "\n",
    " The inexistence of a vaccine has pushed the local governments to take different kind of measures to stop the advance of this virus, being the most effective the social distancing and lockdowns. The second one, is an extreme measure that severely affects the economy of a country, knowing this, the lockdowns are implemented partially meanwhile the levels of confirmed cases and risk is minimum.\n",
    "\n",
    " In this notebook, we will explore the city of Santiago, the capital of Chile. This city is composed of 32 neighborhoods, each one with different levels of confirmed covid 19 cases. We will cluster the neighborhoods and find a relationship between the features of each neighborhoods and the level of infected population, and finally, determine if the neighborhood should or not should be in lockdown.\n",
    "\n",
    "# The data\n",
    "\n",
    "We will scrap websites and use various libraries to create our dataset:\n",
    "\n",
    "    1. Wikipedia: to get demographic data of each neighborhood.\n",
    "    2. The official health department websites to get covid 19 related information.\n",
    "    3. Official Statistics department to get demographic info.\n",
    "    4. Foursquare API to get data\n",
    "  "
   ]
  }
 ],
 "metadata": {
  "kernelspec": {
   "display_name": "Python 3",
   "language": "python",
   "name": "python3"
  },
  "language_info": {
   "codemirror_mode": {
    "name": "ipython",
    "version": 3
   },
   "file_extension": ".py",
   "mimetype": "text/x-python",
   "name": "python",
   "nbconvert_exporter": "python",
   "pygments_lexer": "ipython3",
   "version": "3.7.6"
  }
 },
 "nbformat": 4,
 "nbformat_minor": 4
}
